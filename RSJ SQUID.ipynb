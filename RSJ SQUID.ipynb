{
 "cells": [
  {
   "cell_type": "code",
   "execution_count": 1,
   "metadata": {
    "ExecuteTime": {
     "end_time": "2022-08-22T13:31:23.191101Z",
     "start_time": "2022-08-22T13:31:03.902577Z"
    }
   },
   "outputs": [],
   "source": [
    "from numba import njit, prange\n",
    "import numpy as np\n",
    "import xarray as xr\n",
    "import random\n",
    "import time\n",
    "import matplotlib.pyplot as plt\n",
    "from math import sin\n",
    "\n",
    "h = 6.62607004e-34\n",
    "e = 1.6021765e-19\n",
    "hbar = h / (2 * np.pi)"
   ]
  },
  {
   "cell_type": "markdown",
   "metadata": {},
   "source": [
    "# Shapiro maps"
   ]
  },
  {
   "cell_type": "code",
   "execution_count": 2,
   "metadata": {
    "ExecuteTime": {
     "end_time": "2022-08-22T13:31:55.294701Z",
     "start_time": "2022-08-22T13:31:55.267367Z"
    }
   },
   "outputs": [],
   "source": [
    "\n",
    "def RSJ_SQUID(I_dc: np.array, \n",
    "           I_rf: np.array,\n",
    "           f_rf: float, \n",
    "           Rj: float, \n",
    "           Ic: float, \n",
    "           alpha :float = 0.,\n",
    "           beta :float = 1.,\n",
    "           gamma :float = 0.,\n",
    "           rho :float = 0,\n",
    "           phi_ext :float = 0.5,\n",
    "           sigma: float = 0.5, \n",
    "           n_periods: int = 100, \n",
    "           pts_period: int = 1000,\n",
    "           simulation_type = 'I-V') -> xr.DataArray:\n",
    "\n",
    "    t0 = hbar / ( 2 * e * Ic * Rj )\n",
    "    eta = 2 * np.pi * f_rf * t0\n",
    "\n",
    "    # Time step of the t vs phi evolution\n",
    "    dt = 2 * np.pi / ( eta * pts_period )\n",
    "    n_total = n_periods * pts_period\n",
    "\n",
    "    params = {'f_rf': f_rf, 'Rj': Rj, 'Ic': Ic, 'sigma': sigma, 'n_periods': n_periods, 'pts_period': pts_period}\n",
    "    \n",
    "    @njit\n",
    "    def CPR(phi):\n",
    "        \"\"\" Return CPR of the junction \"\"\"\n",
    "        \n",
    "        return sin(phi)\n",
    "\n",
    "    @njit\n",
    "    def Dphi(phi, t, i_dc, i_rf):\n",
    "        \"\"\" Return derivative of phases \"\"\"\n",
    "        j = (phi[0] - phi[1] - 2*np.pi*phi_ext)/(np.pi*beta) - 0.5 * gamma * i_dc\n",
    "\n",
    "        dphi1 = (0.5 * i_dc + 0.5 * i_rf * sin(eta*t) - j - ( 1 - alpha ) * CPR(phi[0]))/(1 - rho)\n",
    "        dphi2 = (0.5 * i_dc + 0.5 * i_rf * sin(eta*t) + j - ( 1 + alpha ) * CPR(phi[1]))/(1 + rho)\n",
    "        return np.array([dphi1, dphi2])\n",
    "\n",
    "    @njit\n",
    "    def RK2(phi, t, i_dc, i_rf):\n",
    "        \"\"\" 4th order Runge-Kutta method \"\"\"\n",
    "\n",
    "        F1 = Dphi(phi, t, i_dc, i_rf)\n",
    "        F2 = Dphi(phi + 0.5 * dt * F1, t + 0.5 * dt, i_dc, i_rf)\n",
    "        F3 = Dphi(phi + 0.5 * dt * F2, t + 0.5 * dt, i_dc, i_rf)\n",
    "        F4 = Dphi(phi + dt * F3, t + dt, i_dc, i_rf)\n",
    "\n",
    "        phi_out = phi + dt/6. * (F1 + F4 + 2.*(F2 + F3))\n",
    "        t_out = t + dt\n",
    "\n",
    "        return phi_out, t_out\n",
    "\n",
    "    @njit\n",
    "    def calculate(i_dc, i_rf, phi0):\n",
    "        phi, t = np.zeros((n_total,2)), np.zeros(n_total)\n",
    "        phi[0], t[0] = phi0, 0\n",
    "\n",
    "        for n in range(n_total - 1):\n",
    "            noise = random.gauss(0,sigma)\n",
    "            phi[n+1], t[n+1] = RK2(phi[n], t[n], i_dc + noise, i_rf)\n",
    "\n",
    "        return (phi[-1, 0] - phi[0, 0])/(t[-1]-t[0]), np.array([phi[-1, 0], phi[-1, 1]])\n",
    "\n",
    "    @njit(parallel=True)\n",
    "    def loop(V, I_dc, I_rf):\n",
    "\n",
    "        for n1 in prange(len(I_rf)):\n",
    "            V[0, n1], phi0 = calculate(I_dc[0], I_rf[n1], phi0 = np.array([0,0]))\n",
    "\n",
    "            for n2 in range(len(I_dc)):\n",
    "                V[n2, n1], phi0  = calculate(I_dc[n2], I_rf[n1], phi0 = phi0)\n",
    "\n",
    "        return V * Ic * Rj / ( h * f_rf / ( 2 * e ) )\n",
    "\n",
    "    \"\"\" Run the simulation \"\"\"\n",
    "    start = time.time()\n",
    "\n",
    "    V = np.zeros((len(I_dc), len(I_rf)))\n",
    "    V = xr.DataArray(loop(V, I_dc, I_rf), \n",
    "                    coords = {'i_dc': I_dc, 'i_rf': I_rf}, \n",
    "                    attrs = {'long_name': 'Voltage drop', \n",
    "                              'units': '$hf/2e$',\n",
    "                              'params': params})\n",
    "\n",
    "\n",
    "    elapsed_time = time.time() - start\n",
    "    print(f'Simulation took: {elapsed_time:.1f} s')\n",
    "    \n",
    "    return V"
   ]
  },
  {
   "cell_type": "code",
   "execution_count": null,
   "metadata": {},
   "outputs": [],
   "source": [
    "I_dc = np.linspace(-2,2, 100)\n",
    "I_rf = np.logspace(-,0.5, 50)\n",
    "V = RSJ_SQUID(I_dc, I_rf, f_rf = 1.75e9, Rj = 500, Ic = 50e-9, sigma = 0., alpha=0.15, beta=10, gamma=0, rho=0, phi_ext=0.)\n",
    "\n",
    "V.transpose().differentiate('i_dc').plot()"
   ]
  },
  {
   "cell_type": "markdown",
   "metadata": {},
   "source": [
    "# Flux sweeps"
   ]
  },
  {
   "cell_type": "markdown",
   "metadata": {
    "heading_collapsed": true
   },
   "source": [
    "## Code"
   ]
  },
  {
   "cell_type": "code",
   "execution_count": 3,
   "metadata": {
    "ExecuteTime": {
     "end_time": "2022-08-22T13:32:05.613815Z",
     "start_time": "2022-08-22T13:32:05.586341Z"
    },
    "hidden": true
   },
   "outputs": [],
   "source": [
    "def RSJ_SQUID(I_dc: np.array, \n",
    "           Phi_ext: np.array,\n",
    "           i_rf: float,\n",
    "           f_rf: float, \n",
    "           Rj: float, \n",
    "           Ic: float, \n",
    "           alpha :float = 0.,\n",
    "           beta :float = 1.,\n",
    "           gamma :float = 0.,\n",
    "           rho :float = 0,\n",
    "           sigma: float = 0.5, \n",
    "           n_periods: int = 100, \n",
    "           pts_period: int = 1000) -> xr.DataArray:\n",
    "\n",
    "    t0 = hbar / ( 2 * e * Ic * Rj )\n",
    "    eta = 2 * np.pi * f_rf * t0\n",
    "\n",
    "    # Time step of the t vs phi evolution\n",
    "    dt = 2 * np.pi / ( eta * pts_period )\n",
    "    n_total = n_periods * pts_period\n",
    "\n",
    "    params = {'f_rf': f_rf, 'Rj': Rj, 'Ic': Ic, 'sigma': sigma, 'n_periods': n_periods, 'pts_period': pts_period}\n",
    "    \n",
    "    @njit\n",
    "    def CPR(phi):\n",
    "        \"\"\" Return CPR of the junction \"\"\"\n",
    "        \n",
    "        return sin(phi)\n",
    "\n",
    "    @njit\n",
    "    def Dphi(phi, t, i_dc, phi_ext):\n",
    "        \"\"\" Return derivative of phases \"\"\"\n",
    "        j = (phi[0] - phi[1] - 2*np.pi*phi_ext)/(np.pi*beta) - 0.5 * gamma * i_dc\n",
    "\n",
    "        dphi1 = (0.5 * i_dc + 0.5 * i_rf * sin(eta*t) - j - ( 1 - alpha ) * CPR(phi[0]))/(1 - rho)\n",
    "        dphi2 = (0.5 * i_dc + 0.5 * i_rf * sin(eta*t) + j - ( 1 + alpha ) * CPR(phi[1]))/(1 + rho)\n",
    "        return np.array([dphi1, dphi2])\n",
    "\n",
    "    @njit\n",
    "    def RK2(phi, t, i_dc, phi_ext):\n",
    "        \"\"\" 2th order Runge-Kutta method \"\"\"\n",
    "\n",
    "        F1 = Dphi(phi, t, i_dc, phi_ext)\n",
    "        F2 = Dphi(phi + 0.5 * dt * F1, t + 0.5 * dt, i_dc, phi_ext)\n",
    "        F3 = Dphi(phi + 0.5 * dt * F2, t + 0.5 * dt, i_dc, phi_ext)\n",
    "        F4 = Dphi(phi + dt * F3, t + dt, i_dc, phi_ext)\n",
    "\n",
    "        phi_out = phi + dt/6. * (F1 + F4 + 2.*(F2 + F3))\n",
    "        t_out = t + dt\n",
    "\n",
    "        return phi_out, t_out\n",
    "\n",
    "    @njit\n",
    "    def calculate(i_dc, phi_ext, phi0):\n",
    "        phi, t = np.zeros((n_total,2)), np.zeros(n_total)\n",
    "        phi[0], t[0] = phi0, 0\n",
    "\n",
    "        for n in range(n_total - 1):\n",
    "            noise = random.gauss(0,sigma)\n",
    "            phi[n+1], t[n+1] = RK2(phi[n], t[n], i_dc + noise, phi_ext)\n",
    "\n",
    "        return (phi[-1, 0] - phi[0, 0])/(t[-1]-t[0]), np.array([phi[-1, 0], phi[-1, 1]])\n",
    "\n",
    "    @njit(parallel=True)\n",
    "    def loop(V, I_dc, Phi_ext):\n",
    "\n",
    "        for n1 in prange(len(Phi_ext)):\n",
    "            V[0, n1], phi0 = calculate(I_dc[0], Phi_ext[n1], phi0 = np.array([0,0]))\n",
    "\n",
    "            for n2 in range(len(I_dc)):\n",
    "                V[n2, n1], phi0  = calculate(I_dc[n2], Phi_ext[n1], phi0 = phi0)\n",
    "\n",
    "        return V * Ic * Rj\n",
    "\n",
    "\n",
    "    \"\"\" Run the simulation \"\"\"\n",
    "    start = time.time()\n",
    "\n",
    "    V = np.zeros((len(I_dc), len(Phi_ext)))\n",
    "    V = xr.DataArray(loop(V, I_dc, Phi_ext), \n",
    "                    coords = {'i_dc': I_dc, 'phi_ext': Phi_ext}, \n",
    "                    attrs = {'long_name': 'Voltage drop', \n",
    "                              'units': 'V',\n",
    "                              'params': params})\n",
    "\n",
    "\n",
    "    elapsed_time = time.time() - start\n",
    "    \n",
    "    print(f'Simulation took: {elapsed_time:.1f} s')\n",
    "    \n",
    "    return V"
   ]
  },
  {
   "cell_type": "markdown",
   "metadata": {},
   "source": [
    "## Examples"
   ]
  },
  {
   "cell_type": "markdown",
   "metadata": {},
   "source": [
    "### Symmetric SQUID with neglible inductance $ \\alpha = 0 $, $\\beta = 0$"
   ]
  },
  {
   "cell_type": "code",
   "execution_count": 10,
   "metadata": {
    "ExecuteTime": {
     "end_time": "2022-08-22T14:02:17.482717Z",
     "start_time": "2022-08-22T13:50:31.882344Z"
    }
   },
   "outputs": [
    {
     "name": "stdout",
     "output_type": "stream",
     "text": [
      "Simulation took: 705.6 s\n"
     ]
    }
   ],
   "source": [
    "I_dc = np.linspace(-3,3, 100)\n",
    "Phi_ext = np.linspace(-0.75,0.75,50)\n",
    "V = RSJ_SQUID(I_dc, Phi_ext, i_rf=0, f_rf = 1.75e9, Rj = 500, Ic = 50e-9, sigma = 0., alpha=0, beta=0.01, gamma=0, rho=0, )"
   ]
  },
  {
   "cell_type": "code",
   "execution_count": 11,
   "metadata": {
    "ExecuteTime": {
     "end_time": "2022-08-22T14:02:17.869293Z",
     "start_time": "2022-08-22T14:02:17.492054Z"
    }
   },
   "outputs": [
    {
     "data": {
      "text/plain": [
       "<matplotlib.collections.QuadMesh at 0x7f512c4169e8>"
      ]
     },
     "execution_count": 11,
     "metadata": {},
     "output_type": "execute_result"
    },
    {
     "data": {
      "image/png": "[encoded data removed]",
      "text/plain": [
       "<Figure size 432x288 with 2 Axes>"
      ]
     },
     "metadata": {
      "needs_background": "light"
     },
     "output_type": "display_data"
    }
   ],
   "source": [
    "V.differentiate('i_dc').plot()"
   ]
  },
  {
   "cell_type": "markdown",
   "metadata": {},
   "source": [
    "### Symmetric SQUID with finite inductance $ \\alpha = 0 $, $\\beta \\simeq 1$"
   ]
  },
  {
   "cell_type": "markdown",
   "metadata": {},
   "source": [
    "For finite $\\beta$, the critical current can't be totally suppressed. In this case, it goes from $2 I_c$ at $\\Phi_{ext} = 0$ to $I_c$ at $\\Phi_{ext} = 0.5 \\Phi_0$."
   ]
  },
  {
   "cell_type": "code",
   "execution_count": 8,
   "metadata": {
    "ExecuteTime": {
     "end_time": "2022-08-22T13:46:23.173975Z",
     "start_time": "2022-08-22T13:34:37.919213Z"
    }
   },
   "outputs": [
    {
     "name": "stdout",
     "output_type": "stream",
     "text": [
      "Simulation took: 705.2 s\n"
     ]
    }
   ],
   "source": [
    "I_dc = np.linspace(-3,3, 100)\n",
    "Phi_ext = np.linspace(-0.75,0.75,50)\n",
    "V = RSJ_SQUID(I_dc, Phi_ext, i_rf=0, f_rf = 1.75e9, Rj = 500, Ic = 50e-9, sigma = 0., alpha=0, beta=1, gamma=0, rho=0, )"
   ]
  },
  {
   "cell_type": "code",
   "execution_count": 9,
   "metadata": {
    "ExecuteTime": {
     "end_time": "2022-08-22T13:46:23.539127Z",
     "start_time": "2022-08-22T13:46:23.182337Z"
    }
   },
   "outputs": [
    {
     "data": {
      "text/plain": [
       "<matplotlib.collections.QuadMesh at 0x7f5197590d68>"
      ]
     },
     "execution_count": 9,
     "metadata": {},
     "output_type": "execute_result"
    },
    {
     "data": {
      "image/png": "[encoded data removed]",
      "text/plain": [
       "<Figure size 432x288 with 2 Axes>"
      ]
     },
     "metadata": {
      "needs_background": "light"
     },
     "output_type": "display_data"
    }
   ],
   "source": [
    "V.differentiate('i_dc').plot()"
   ]
  },
  {
   "cell_type": "markdown",
   "metadata": {},
   "source": [
    "### Asymmetric SQUID with finite inductance  $ \\alpha = 0.5 $, $\\beta \\simeq 1$"
   ]
  },
  {
   "cell_type": "markdown",
   "metadata": {},
   "source": [
    "For finite $\\alpha$ and $\\beta$, the critical current can't be totally suppressed. "
   ]
  },
  {
   "cell_type": "code",
   "execution_count": 15,
   "metadata": {
    "ExecuteTime": {
     "end_time": "2022-08-22T15:55:51.513405Z",
     "start_time": "2022-08-22T15:44:09.414797Z"
    }
   },
   "outputs": [
    {
     "name": "stdout",
     "output_type": "stream",
     "text": [
      "Simulation took: 702.1 s\n"
     ]
    }
   ],
   "source": [
    "I_dc = np.linspace(-3,3, 100)\n",
    "Phi_ext = np.linspace(-0.75,0.75,50)\n",
    "V = RSJ_SQUID(I_dc, Phi_ext, i_rf=0, f_rf = 1.75e9, Rj = 500, Ic = 50e-9, sigma = 0., alpha=0.5, beta=1, gamma=0, rho=0, )"
   ]
  },
  {
   "cell_type": "code",
   "execution_count": 16,
   "metadata": {
    "ExecuteTime": {
     "end_time": "2022-08-22T15:55:51.857412Z",
     "start_time": "2022-08-22T15:55:51.537650Z"
    }
   },
   "outputs": [
    {
     "data": {
      "text/plain": [
       "<matplotlib.collections.QuadMesh at 0x7f512c152240>"
      ]
     },
     "execution_count": 16,
     "metadata": {},
     "output_type": "execute_result"
    },
    {
     "data": {
      "image/png": "[encoded data removed]",
      "text/plain": [
       "<Figure size 432x288 with 2 Axes>"
      ]
     },
     "metadata": {
      "needs_background": "light"
     },
     "output_type": "display_data"
    }
   ],
   "source": [
    "V.differentiate('i_dc').plot()"
   ]
  }
 ],
 "metadata": {
  "kernelspec": {
   "display_name": "Python 3",
   "language": "python",
   "name": "python3"
  },
  "language_info": {
   "codemirror_mode": {
    "name": "ipython",
    "version": 3
   },
   "file_extension": ".py",
   "mimetype": "text/x-python",
   "name": "python",
   "nbconvert_exporter": "python",
   "pygments_lexer": "ipython3",
   "version": "3.7.3"
  },
  "toc": {
   "base_numbering": 1,
   "nav_menu": {},
   "number_sections": true,
   "sideBar": true,
   "skip_h1_title": false,
   "title_cell": "Table of Contents",
   "title_sidebar": "Contents",
   "toc_cell": false,
   "toc_position": {},
   "toc_section_display": true,
   "toc_window_display": false
  },
  "varInspector": {
   "cols": {
    "lenName": 16,
    "lenType": 16,
    "lenVar": 40
   },
   "kernels_config": {
    "python": {
     "delete_cmd_postfix": "",
     "delete_cmd_prefix": "del ",
     "library": "var_list.py",
     "varRefreshCmd": "print(var_dic_list())"
    },
    "r": {
     "delete_cmd_postfix": ") ",
     "delete_cmd_prefix": "rm(",
     "library": "var_list.r",
     "varRefreshCmd": "cat(var_dic_list()) "
    }
   },
   "types_to_exclude": [
    "module",
    "function",
    "builtin_function_or_method",
    "instance",
    "_Feature"
   ],
   "window_display": false
  }
 },
 "nbformat": 4,
 "nbformat_minor": 5
}
